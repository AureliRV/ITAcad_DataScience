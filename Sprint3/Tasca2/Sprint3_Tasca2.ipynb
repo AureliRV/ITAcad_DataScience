{
 "cells": [
  {
   "cell_type": "markdown",
   "id": "d02680f5",
   "metadata": {},
   "source": [
    "## Exercici 1"
   ]
  },
  {
   "cell_type": "markdown",
   "id": "df322fb2",
   "metadata": {},
   "source": [
    "### Llista de mesos de l'any en 4 trimestres."
   ]
  },
  {
   "cell_type": "code",
   "execution_count": 4,
   "id": "00789302",
   "metadata": {
    "ExecuteTime": {
     "end_time": "2021-04-13T07:47:13.687585Z",
     "start_time": "2021-04-13T07:47:13.675601Z"
    }
   },
   "outputs": [],
   "source": [
    "mesos = [ [\"Gener\", \"Febrer\", \"Març\"], [\"Abril\", \"Maig\", \"Juny\"], [\"Juliol\", \"Agost\", \"Setembre\"], [\"Octubre\", \"novembre\", \"Desembre\"]]"
   ]
  },
  {
   "cell_type": "markdown",
   "id": "5fd1b921",
   "metadata": {},
   "source": [
    "## Exercici 2"
   ]
  },
  {
   "cell_type": "markdown",
   "id": "15db07fd",
   "metadata": {},
   "source": [
    "##### Accedir al 2n mes del T1, mesos del T1 i Setembre i octubre:"
   ]
  },
  {
   "cell_type": "code",
   "execution_count": 9,
   "id": "71fc5067",
   "metadata": {
    "ExecuteTime": {
     "end_time": "2021-04-13T08:04:14.539181Z",
     "start_time": "2021-04-13T08:04:14.522173Z"
    }
   },
   "outputs": [
    {
     "name": "stdout",
     "output_type": "stream",
     "text": [
      "Febrer\n",
      "['Gener', 'Febrer', 'Març']\n",
      "Setembre, Octubre\n"
     ]
    }
   ],
   "source": [
    "print(mesos[0][1])\n",
    "print(mesos[0])\n",
    "print(mesos[2][2] + \", \" + mesos[3][0])"
   ]
  },
  {
   "cell_type": "code",
   "execution_count": 10,
   "id": "16294bec",
   "metadata": {
    "ExecuteTime": {
     "end_time": "2021-04-13T08:05:22.537164Z",
     "start_time": "2021-04-13T08:05:06.069976Z"
    }
   },
   "outputs": [
    {
     "name": "stdout",
     "output_type": "stream",
     "text": [
      "A que vols accedir? 2n mes del t1 (prem 1), Mesos del 1r Trimestre (prem 2), A Setembre i Octubre (prem 3) 3\n",
      "Setembre, Octubre\n"
     ]
    }
   ],
   "source": [
    "sel = int(input('A que vols accedir? 2n mes del t1 (prem 1), Mesos del 1r Trimestre (prem 2), A Setembre i Octubre (prem 3).'))\n",
    "if sel == 1:            \n",
    "    print(mesos[0][1])\n",
    "elif sel == 2:\n",
    "    print(mesos[0])\n",
    "elif sel == 3:\n",
    "    print(mesos[2][2] + \", \" + mesos[3][0])\n",
    "else:\n",
    "    print('Selecció erronia')"
   ]
  },
  {
   "cell_type": "markdown",
   "id": "b3348567",
   "metadata": {},
   "source": [
    "## Ecercici 3 (llista desordenada)."
   ]
  },
  {
   "cell_type": "code",
   "execution_count": 2,
   "id": "80a70b06",
   "metadata": {
    "ExecuteTime": {
     "end_time": "2021-04-18T09:45:23.448349Z",
     "start_time": "2021-04-18T09:45:23.416352Z"
    }
   },
   "outputs": [
    {
     "name": "stdout",
     "output_type": "stream",
     "text": [
      "[15, 5, 9, 8, 14, 12, 7, 4, 2, 7, 9, 15, 15, 9]\n"
     ]
    }
   ],
   "source": [
    "import random\n",
    "\n",
    "llsta = []\n",
    "\n",
    "for i in range (random.randint(5, 25)):\n",
    "    n = random.randint(0, 15)\n",
    "    llsta.append(n)\n",
    "print(llsta)\n"
   ]
  },
  {
   "cell_type": "markdown",
   "id": "82f4818d",
   "metadata": {},
   "source": [
    "##### Respostes:\n",
    "* Quants números hi ha?\n",
    "\n",
    "* Quantes vegades apareix el número 3\n",
    "\n",
    "* Quantes vegades apareixen els nombres 3 i 4?\n",
    "\n",
    "* Quin és el número més gran?\n",
    "\n",
    "* Quins són els 3 números més petits?\n",
    " \n",
    "* Quin és el rang d’aquesta llista?\n",
    "    "
   ]
  },
  {
   "cell_type": "code",
   "execution_count": 3,
   "id": "aebc27b8",
   "metadata": {
    "ExecuteTime": {
     "end_time": "2021-04-18T09:45:26.325787Z",
     "start_time": "2021-04-18T09:45:26.293780Z"
    }
   },
   "outputs": [
    {
     "name": "stdout",
     "output_type": "stream",
     "text": [
      "La Llista te 14 números.\n",
      "Hi ha 0 tresos a la llista.\n",
      "Hi ha 0 tresos i 1 quatres a la llista.\n",
      "El número més gran de la llista és 15.\n",
      "Els tres números més petits son: [5, 4, 2, 2, 2]\n"
     ]
    }
   ],
   "source": [
    "print('La Llista te ' + str(len(llsta)) + ' números.')\n",
    "\n",
    "c = 0\n",
    "for i in llsta:\n",
    "    if i == 3:\n",
    "        c += 1\n",
    "print('Hi ha ' + str(c) +' tresos a la llista.')\n",
    "\n",
    "c = 0\n",
    "n = 0\n",
    "for i in llsta:\n",
    "    if i == 3 or i == 4:\n",
    "        if i == 3:\n",
    "            c += 1\n",
    "        else:\n",
    "            n += 1\n",
    "print('Hi ha ' + str(c) + ' tresos i ' + str(n) + ' quatres a la llista.')\n",
    "\n",
    "a = 0\n",
    "for i in llsta:\n",
    "    if i > a:\n",
    "        a = i\n",
    "    else:\n",
    "        a = a\n",
    "print('El número més gran de la llista és ' + str(a) + '.')\n",
    "\n",
    "\n",
    "mespetits = []\n",
    "b = 0\n",
    "menor = llsta[0]\n",
    "while b != 3:\n",
    "    for i in range(len(llsta)):\n",
    "        if llsta[i] < menor:\n",
    "            menor = llsta[i]\n",
    "            mespetits.append(menor)\n",
    "    menor += 1\n",
    "    b += 1\n",
    "print('Els tres números més petits son: ' + str(mespetits))"
   ]
  },
  {
   "cell_type": "markdown",
   "id": "9b96d0c8",
   "metadata": {},
   "source": [
    "### Exercici 4 (Diccionari)"
   ]
  },
  {
   "cell_type": "code",
   "execution_count": 11,
   "id": "539dd41d",
   "metadata": {
    "ExecuteTime": {
     "end_time": "2021-04-18T10:43:10.034865Z",
     "start_time": "2021-04-18T10:43:10.022879Z"
    }
   },
   "outputs": [],
   "source": [
    "compra = { \n",
    "    \"Pomes\" : {\"Qty\": 5, \"€\": 0.42},\n",
    "    \"Peres\" : {\"Qty\": 3, \"€\": 0.66} \n",
    "}"
   ]
  },
  {
   "cell_type": "markdown",
   "id": "717f8ad9",
   "metadata": {},
   "source": [
    "##### Preguntes:\n",
    "* Afegeix alguna fruita més.\n",
    "* Quant han costat les peres en total?\n",
    "* Quantes fruites hem comprat en total?\n",
    "* Quina és la fruita més cara?"
   ]
  },
  {
   "cell_type": "markdown",
   "id": "b42d51fe",
   "metadata": {},
   "source": [
    "### Una Fruita més."
   ]
  },
  {
   "cell_type": "code",
   "execution_count": 13,
   "id": "59e61152",
   "metadata": {
    "ExecuteTime": {
     "end_time": "2021-04-18T10:44:31.183522Z",
     "start_time": "2021-04-18T10:44:24.486015Z"
    }
   },
   "outputs": [
    {
     "name": "stdout",
     "output_type": "stream",
     "text": [
      "Nom de la fruita a introduir: Taronges\n",
      "Quantitat de Fruita: 5\n",
      "Preu de la fruita: 0.99\n",
      "{'Taronges': {'Qty': 5.0, '€': 0.99}}\n",
      "{'Pomes': {'Qty': 5, '€': 0.42}, 'Peres': {'Qty': 3, '€': 0.66}, 'Taronges': {'Qty': 5.0, '€': 0.99}}\n"
     ]
    }
   ],
   "source": [
    "nomFruita = str(input('Nom de la fruita a introduir: '))\n",
    "quantFrui = float(input('Quantitat de Fruita: '))\n",
    "preuFrui = float(input('Preu de la fruita: '))\n",
    "quantPreu = {\"Qty\": quantFrui, \"€\": preuFrui}\n",
    "novaFr = {nomFruita: quantPreu}\n",
    "print(novaFr)\n",
    "compra.update(novaFr)\n",
    "print(compra)\n"
   ]
  },
  {
   "cell_type": "markdown",
   "id": "19138855",
   "metadata": {},
   "source": [
    "### Preu de les Peres:"
   ]
  },
  {
   "cell_type": "code",
   "execution_count": 14,
   "id": "e7294159",
   "metadata": {
    "ExecuteTime": {
     "end_time": "2021-04-18T10:44:35.009357Z",
     "start_time": "2021-04-18T10:44:34.996352Z"
    }
   },
   "outputs": [
    {
     "name": "stdout",
     "output_type": "stream",
     "text": [
      "Les peres han costat 1.98Euros.\n"
     ]
    }
   ],
   "source": [
    "x = compra['Peres']['Qty']\n",
    "y = compra['Peres']['€']\n",
    "print('Les peres han costat ' + str(x * y) + 'Euros.')\n",
    "\n"
   ]
  },
  {
   "cell_type": "markdown",
   "id": "24db4cfd",
   "metadata": {},
   "source": [
    "### Total de Fruites:"
   ]
  },
  {
   "cell_type": "code",
   "execution_count": 15,
   "id": "65992ee4",
   "metadata": {
    "ExecuteTime": {
     "end_time": "2021-04-18T10:44:38.073623Z",
     "start_time": "2021-04-18T10:44:38.054605Z"
    }
   },
   "outputs": [
    {
     "name": "stdout",
     "output_type": "stream",
     "text": [
      "Hem comprat un total de 13.0 fruites.\n"
     ]
    }
   ],
   "source": [
    "t = 0\n",
    "for i in compra:\n",
    "     t = t + compra[i]['Qty']\n",
    "print('Hem comprat un total de ' + str(t) + ' fruites.')\n"
   ]
  },
  {
   "cell_type": "markdown",
   "id": "629e2fff",
   "metadata": {},
   "source": [
    "### Per calcular la fruita més cara no puc iterar pel diccionari..."
   ]
  },
  {
   "cell_type": "code",
   "execution_count": 18,
   "id": "183d610d",
   "metadata": {
    "ExecuteTime": {
     "end_time": "2021-04-18T17:16:25.951197Z",
     "start_time": "2021-04-18T17:16:25.928198Z"
    }
   },
   "outputs": [
    {
     "name": "stdout",
     "output_type": "stream",
     "text": [
      "La fruita més cara és: Taronges\n"
     ]
    }
   ],
   "source": [
    "if compra['Pomes'].get('€') > compra['Peres'].get('€'):\n",
    "    if compra['Pomes'].get('€') > compra['Taronges'].get('€'):\n",
    "        print('La fruita més cara i és: Pomes')\n",
    "    else:\n",
    "        print('La fruita més cara és: Taronges')\n",
    "else:\n",
    "    if compra['Peres'].get('€') > compra['Taronges'].get('€'):\n",
    "        print('La fruita més cara és: Peres')\n",
    "    else:\n",
    "        print('La fruita més cara és: Taronges')"
   ]
  }
 ],
 "metadata": {
  "kernelspec": {
   "display_name": "Python 3",
   "language": "python",
   "name": "python3"
  },
  "language_info": {
   "codemirror_mode": {
    "name": "ipython",
    "version": 3
   },
   "file_extension": ".py",
   "mimetype": "text/x-python",
   "name": "python",
   "nbconvert_exporter": "python",
   "pygments_lexer": "ipython3",
   "version": "3.8.8"
  },
  "varInspector": {
   "cols": {
    "lenName": 16,
    "lenType": 16,
    "lenVar": 40
   },
   "kernels_config": {
    "python": {
     "delete_cmd_postfix": "",
     "delete_cmd_prefix": "del ",
     "library": "var_list.py",
     "varRefreshCmd": "print(var_dic_list())"
    },
    "r": {
     "delete_cmd_postfix": ") ",
     "delete_cmd_prefix": "rm(",
     "library": "var_list.r",
     "varRefreshCmd": "cat(var_dic_list()) "
    }
   },
   "types_to_exclude": [
    "module",
    "function",
    "builtin_function_or_method",
    "instance",
    "_Feature"
   ],
   "window_display": false
  }
 },
 "nbformat": 4,
 "nbformat_minor": 5
}
