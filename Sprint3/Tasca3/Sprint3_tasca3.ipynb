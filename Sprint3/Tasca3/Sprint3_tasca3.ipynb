{
 "cells": [
  {
   "cell_type": "markdown",
   "id": "904211b7",
   "metadata": {},
   "source": [
    "## Estructures de Control."
   ]
  },
  {
   "cell_type": "code",
   "execution_count": 13,
   "id": "1450d11b",
   "metadata": {
    "ExecuteTime": {
     "end_time": "2021-04-19T08:21:01.607285Z",
     "start_time": "2021-04-19T08:20:58.296133Z"
    }
   },
   "outputs": [
    {
     "name": "stdout",
     "output_type": "stream",
     "text": [
      "Escriu la nota a evaluar:4.9\n",
      "Suspès\n"
     ]
    }
   ],
   "source": [
    "n = float(input('Escriu la nota a evaluar:'))\n",
    "\n",
    "if n > 9:\n",
    "    print('Excel.lent')\n",
    "elif n > 7:\n",
    "    print('Notable')\n",
    "elif n > 5:\n",
    "    print('Aprovat')\n",
    "else:\n",
    "    print('Suspès')"
   ]
  },
  {
   "cell_type": "markdown",
   "id": "f25a9f09",
   "metadata": {},
   "source": [
    "### Comparació de números."
   ]
  },
  {
   "cell_type": "code",
   "execution_count": 16,
   "id": "d52b9661",
   "metadata": {
    "ExecuteTime": {
     "end_time": "2021-04-19T08:25:51.071342Z",
     "start_time": "2021-04-19T08:25:46.834091Z"
    }
   },
   "outputs": [
    {
     "name": "stdout",
     "output_type": "stream",
     "text": [
      "Escriu un número: 34\n",
      "Escriu un altre número: 88\n",
      "88 és mes gran que 34\n"
     ]
    }
   ],
   "source": [
    "x = int(input('Escriu un número: '))\n",
    "y = int(input('Escriu un altre número: '))\n",
    "\n",
    "if x > y:\n",
    "    print ( str(x) + 'és mes gran que ' + str(y))\n",
    "    \n",
    "elif x == y:\n",
    "        print(str(x) + ' i ' + str(y) + ' son iguals.')\n",
    "        \n",
    "else:\n",
    "    print ( str(y) + ' és mes gran que ' + str(x))\n"
   ]
  },
  {
   "cell_type": "markdown",
   "id": "0bda7764",
   "metadata": {},
   "source": [
    "### Multiplicar el nom."
   ]
  },
  {
   "cell_type": "code",
   "execution_count": 19,
   "id": "9dbe4bed",
   "metadata": {
    "ExecuteTime": {
     "end_time": "2021-04-19T08:29:56.357126Z",
     "start_time": "2021-04-19T08:29:49.191180Z"
    }
   },
   "outputs": [
    {
     "name": "stdout",
     "output_type": "stream",
     "text": [
      "Com et dius?Aureli\n",
      "Quans cops vols veure el teu nom?5\n",
      "AureliAureliAureliAureliAureli\n"
     ]
    }
   ],
   "source": [
    "n = str(input('Com et dius?'))\n",
    "x = int(input('Quans cops vols veure el teu nom?'))\n",
    "\n",
    "if x <= 0:\n",
    "    print('Error en la multiplicació, no podem multiplicar per 0')\n",
    "else:\n",
    "    print(n*x)"
   ]
  },
  {
   "cell_type": "markdown",
   "id": "a108344f",
   "metadata": {},
   "source": [
    "### Simetria o no."
   ]
  },
  {
   "cell_type": "code",
   "execution_count": 39,
   "id": "fc6096fe",
   "metadata": {
    "ExecuteTime": {
     "end_time": "2021-04-19T09:00:43.462977Z",
     "start_time": "2021-04-19T09:00:38.804746Z"
    }
   },
   "outputs": [
    {
     "name": "stdout",
     "output_type": "stream",
     "text": [
      "De quants números vols la llista?7\n",
      "Introdueix un número1\n",
      "Introdueix un número2\n",
      "Introdueix un número3\n",
      "Introdueix un número4\n",
      "Introdueix un número3\n",
      "Introdueix un número2\n",
      "Introdueix un número1\n",
      "La teva llista és: [1, 2, 3, 4, 3, 2, 1]\n",
      "Llista simètrica de 7 elements.\n"
     ]
    }
   ],
   "source": [
    "ll1 =[]\n",
    "n = int(input('De quants números vols la llista?'))\n",
    "for i in range(n):\n",
    "    ll1.append(int(input('Introdueix un número')))\n",
    "print('La teva llista és: ' + str(ll1))\n",
    "\n",
    "def sim(ll1):\n",
    "    if len(ll1) == 1 or 2: \n",
    "        if ll1[0] == ll1[-1]:\n",
    "            return True\n",
    "    elif ll1[0] != ll1[-1]:\n",
    "        return False\n",
    "    else:\n",
    "        sim(ll1[1:-1])\n",
    "\n",
    "rSim = sim(ll1)\n",
    "\n",
    "if rSim == True:\n",
    "    print('Llista simètrica de ' + str(len(ll1)) + ' elements.')\n",
    "else:\n",
    "    print('Llista assimètrica de ' + str(len(ll1)) + ' elements.')"
   ]
  },
  {
   "cell_type": "markdown",
   "id": "6ea9a605",
   "metadata": {},
   "source": [
    "### Coincidència de números amb posicións."
   ]
  },
  {
   "cell_type": "code",
   "execution_count": 46,
   "id": "2b484192",
   "metadata": {
    "ExecuteTime": {
     "end_time": "2021-04-19T09:10:11.560993Z",
     "start_time": "2021-04-19T09:09:58.488587Z"
    }
   },
   "outputs": [
    {
     "name": "stdout",
     "output_type": "stream",
     "text": [
      "De quants números vols la llista?5\n",
      "Introdueix un número8\n",
      "Introdueix un número1\n",
      "Introdueix un número4\n",
      "Introdueix un número3\n",
      "Introdueix un número2\n",
      "La teva llista és: [8, 1, 4, 3, 2]\n",
      "Coincideixen els números: [1, 3]\n"
     ]
    }
   ],
   "source": [
    "ll2 =[]\n",
    "coin= []\n",
    "n = int(input('De quants números vols la llista?'))\n",
    "for i in range(n):\n",
    "    ll2.append(int(input('Introdueix un número')))\n",
    "print('La teva llista és: ' + str(ll2))\n",
    "\n",
    "for i in range(len(ll2)):\n",
    "    if i == ll2[i]:\n",
    "        coin.append(ll2[i])\n",
    "    \n",
    "print('Coincideixen els números: ' + str(coin))\n",
    "        "
   ]
  },
  {
   "cell_type": "code",
   "execution_count": null,
   "id": "71e7ab37",
   "metadata": {},
   "outputs": [],
   "source": []
  }
 ],
 "metadata": {
  "kernelspec": {
   "display_name": "Python 3",
   "language": "python",
   "name": "python3"
  },
  "language_info": {
   "codemirror_mode": {
    "name": "ipython",
    "version": 3
   },
   "file_extension": ".py",
   "mimetype": "text/x-python",
   "name": "python",
   "nbconvert_exporter": "python",
   "pygments_lexer": "ipython3",
   "version": "3.8.8"
  },
  "varInspector": {
   "cols": {
    "lenName": 16,
    "lenType": 16,
    "lenVar": 40
   },
   "kernels_config": {
    "python": {
     "delete_cmd_postfix": "",
     "delete_cmd_prefix": "del ",
     "library": "var_list.py",
     "varRefreshCmd": "print(var_dic_list())"
    },
    "r": {
     "delete_cmd_postfix": ") ",
     "delete_cmd_prefix": "rm(",
     "library": "var_list.r",
     "varRefreshCmd": "cat(var_dic_list()) "
    }
   },
   "types_to_exclude": [
    "module",
    "function",
    "builtin_function_or_method",
    "instance",
    "_Feature"
   ],
   "window_display": false
  }
 },
 "nbformat": 4,
 "nbformat_minor": 5
}
